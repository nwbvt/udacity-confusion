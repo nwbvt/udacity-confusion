{
 "cells": [
  {
   "cell_type": "markdown",
   "metadata": {},
   "source": [
    "# Introduction\n",
    "This project will use the confusion EEG dataset hosted on Kaggle at https://www.kaggle.com/wanghaohan/eeg-brain-wave-for-confusion.  This dataset consists of EEG data taken from students watching MOOC courses of varying difficulty.  The purpose is to identify signals from the EEG that indicate whether or not the student is confused by the subject matter.  In theory confusing subject matter should require additional concentration, or at least a different type of focus from the student, which may be visible in the EEG data."
   ]
  },
  {
   "cell_type": "code",
   "execution_count": 200,
   "metadata": {
    "collapsed": false
   },
   "outputs": [],
   "source": [
    "from pandas import read_csv, concat, DataFrame\n",
    "from matplotlib.pyplot import plot, scatter\n",
    "%matplotlib inline\n",
    "import numpy as np\n",
    "from sklearn.cross_validation import train_test_split, cross_val_score\n",
    "from sklearn.linear_model import LogisticRegression\n",
    "from sklearn.metrics import classification_report, accuracy_score\n",
    "from sklearn.ensemble import GradientBoostingClassifier, AdaBoostClassifier\n",
    "from sklearn.neighbors import KNeighborsClassifier\n",
    "from sklearn.tree import DecisionTreeClassifier"
   ]
  },
  {
   "cell_type": "code",
   "execution_count": 2,
   "metadata": {
    "collapsed": true
   },
   "outputs": [],
   "source": [
    "raw_data = read_csv(\"data/EEG data.csv\")"
   ]
  },
  {
   "cell_type": "code",
   "execution_count": 3,
   "metadata": {
    "collapsed": false
   },
   "outputs": [
    {
     "data": {
      "text/html": [
       "<div>\n",
       "<table border=\"1\" class=\"dataframe\">\n",
       "  <thead>\n",
       "    <tr style=\"text-align: right;\">\n",
       "      <th></th>\n",
       "      <th>subject ID</th>\n",
       "      <th>Video ID</th>\n",
       "      <th>Attention</th>\n",
       "      <th>Meditation</th>\n",
       "      <th>Raw</th>\n",
       "      <th>Delta</th>\n",
       "      <th>Theta</th>\n",
       "      <th>Alpha 1</th>\n",
       "      <th>Alpha 2</th>\n",
       "      <th>Beta 1</th>\n",
       "      <th>Beta 2</th>\n",
       "      <th>Gamma1</th>\n",
       "      <th>Gamma2</th>\n",
       "      <th>predefined label</th>\n",
       "      <th>Self-defined label</th>\n",
       "    </tr>\n",
       "  </thead>\n",
       "  <tbody>\n",
       "    <tr>\n",
       "      <th>0</th>\n",
       "      <td>0</td>\n",
       "      <td>0</td>\n",
       "      <td>56</td>\n",
       "      <td>43</td>\n",
       "      <td>278</td>\n",
       "      <td>301963</td>\n",
       "      <td>90612</td>\n",
       "      <td>33735</td>\n",
       "      <td>23991</td>\n",
       "      <td>27946</td>\n",
       "      <td>45097</td>\n",
       "      <td>33228</td>\n",
       "      <td>8293</td>\n",
       "      <td>0</td>\n",
       "      <td>0</td>\n",
       "    </tr>\n",
       "    <tr>\n",
       "      <th>1</th>\n",
       "      <td>0</td>\n",
       "      <td>0</td>\n",
       "      <td>40</td>\n",
       "      <td>35</td>\n",
       "      <td>-50</td>\n",
       "      <td>73787</td>\n",
       "      <td>28083</td>\n",
       "      <td>1439</td>\n",
       "      <td>2240</td>\n",
       "      <td>2746</td>\n",
       "      <td>3687</td>\n",
       "      <td>5293</td>\n",
       "      <td>2740</td>\n",
       "      <td>0</td>\n",
       "      <td>0</td>\n",
       "    </tr>\n",
       "    <tr>\n",
       "      <th>2</th>\n",
       "      <td>0</td>\n",
       "      <td>0</td>\n",
       "      <td>47</td>\n",
       "      <td>48</td>\n",
       "      <td>101</td>\n",
       "      <td>758353</td>\n",
       "      <td>383745</td>\n",
       "      <td>201999</td>\n",
       "      <td>62107</td>\n",
       "      <td>36293</td>\n",
       "      <td>130536</td>\n",
       "      <td>57243</td>\n",
       "      <td>25354</td>\n",
       "      <td>0</td>\n",
       "      <td>0</td>\n",
       "    </tr>\n",
       "    <tr>\n",
       "      <th>3</th>\n",
       "      <td>0</td>\n",
       "      <td>0</td>\n",
       "      <td>47</td>\n",
       "      <td>57</td>\n",
       "      <td>-5</td>\n",
       "      <td>2012240</td>\n",
       "      <td>129350</td>\n",
       "      <td>61236</td>\n",
       "      <td>17084</td>\n",
       "      <td>11488</td>\n",
       "      <td>62462</td>\n",
       "      <td>49960</td>\n",
       "      <td>33932</td>\n",
       "      <td>0</td>\n",
       "      <td>0</td>\n",
       "    </tr>\n",
       "    <tr>\n",
       "      <th>4</th>\n",
       "      <td>0</td>\n",
       "      <td>0</td>\n",
       "      <td>44</td>\n",
       "      <td>53</td>\n",
       "      <td>-8</td>\n",
       "      <td>1005145</td>\n",
       "      <td>354328</td>\n",
       "      <td>37102</td>\n",
       "      <td>88881</td>\n",
       "      <td>45307</td>\n",
       "      <td>99603</td>\n",
       "      <td>44790</td>\n",
       "      <td>29749</td>\n",
       "      <td>0</td>\n",
       "      <td>0</td>\n",
       "    </tr>\n",
       "  </tbody>\n",
       "</table>\n",
       "</div>"
      ],
      "text/plain": [
       "   subject ID  Video ID  Attention  Meditation  Raw    Delta   Theta  Alpha 1  \\\n",
       "0           0         0         56          43  278   301963   90612    33735   \n",
       "1           0         0         40          35  -50    73787   28083     1439   \n",
       "2           0         0         47          48  101   758353  383745   201999   \n",
       "3           0         0         47          57   -5  2012240  129350    61236   \n",
       "4           0         0         44          53   -8  1005145  354328    37102   \n",
       "\n",
       "   Alpha 2  Beta 1  Beta 2  Gamma1  Gamma2  predefined label  \\\n",
       "0    23991   27946   45097   33228    8293                 0   \n",
       "1     2240    2746    3687    5293    2740                 0   \n",
       "2    62107   36293  130536   57243   25354                 0   \n",
       "3    17084   11488   62462   49960   33932                 0   \n",
       "4    88881   45307   99603   44790   29749                 0   \n",
       "\n",
       "   Self-defined label  \n",
       "0                   0  \n",
       "1                   0  \n",
       "2                   0  \n",
       "3                   0  \n",
       "4                   0  "
      ]
     },
     "execution_count": 3,
     "metadata": {},
     "output_type": "execute_result"
    }
   ],
   "source": [
    "raw_data.head()"
   ]
  },
  {
   "cell_type": "markdown",
   "metadata": {},
   "source": [
    "For these purposes I will group the data by session (one subject and one video) and use the values of the brainwaves in each of the reported ranges.  I will not be using the raw data as it doesn't look like there is enough resolution in the data to see individual brain waves on their own.  I will also not use the propriatary measurements.  They are likely computed as a function of the rest of the data, and therefore not likely useful on their own.  They are also less useful without information on how they are computed.\n",
    "For the label, I will use the self defined label, since I feel that is more trustworthy."
   ]
  },
  {
   "cell_type": "code",
   "execution_count": 4,
   "metadata": {
    "collapsed": false
   },
   "outputs": [],
   "source": [
    "feature_data = raw_data[['subject ID', 'Video ID', \"Delta\", \"Theta\", \"Alpha 1\", \"Alpha 2\", \"Beta 1\", \"Beta 2\", \"Gamma1\", \"Gamma2\", 'Self-defined label']]\n",
    "sessions = feature_data.groupby(['subject ID', 'Video ID'])"
   ]
  },
  {
   "cell_type": "markdown",
   "metadata": {},
   "source": [
    "Lets first try a simple logistic regression against the average values for each of the given brain waves."
   ]
  },
  {
   "cell_type": "code",
   "execution_count": 163,
   "metadata": {
    "collapsed": false
   },
   "outputs": [],
   "source": [
    "aggregated = sessions.aggregate(np.mean)\n",
    "cols = aggregated.columns[:-1]\n",
    "averages = aggregated[cols]\n",
    "averages.columns = [\"Average \" + col for col in cols]\n",
    "target = aggregated[aggregated.columns[-1]]\n",
    "average_data = (averages, target)\n",
    "\n",
    "def test_model(model, data):\n",
    "    \"\"\"\n",
    "    Run the given model against our data\n",
    "    \"\"\"\n",
    "    features, target = data\n",
    "    scores = cross_val_score(model, features, target, cv=40, scoring='accuracy')\n",
    "    return np.mean(scores)\n"
   ]
  },
  {
   "cell_type": "code",
   "execution_count": 164,
   "metadata": {
    "collapsed": false
   },
   "outputs": [
    {
     "name": "stdout",
     "output_type": "stream",
     "text": [
      "Logistic Regression\n",
      "0.5875\n"
     ]
    }
   ],
   "source": [
    "print \"Logistic Regression\"\n",
    "print test_model(LogisticRegression(random_state=42) , average_data)"
   ]
  },
  {
   "cell_type": "markdown",
   "metadata": {},
   "source": [
    "This gives us a 58.75% accuarcy.  This is not too bad as a first try for this data set, as the researchers report a 65% accuracy as being good.  Nethertheless, lets try a few more models"
   ]
  },
  {
   "cell_type": "code",
   "execution_count": 165,
   "metadata": {
    "collapsed": false
   },
   "outputs": [
    {
     "name": "stdout",
     "output_type": "stream",
     "text": [
      "Decision Tree\n",
      "0.691666666667\n",
      "Gradient Boosting\n",
      "0.747916666667\n",
      "AdaBoost\n",
      "0.764583333333\n",
      "Nearest Neighbor\n",
      "0.645833333333\n",
      "3 Nearest Neighbors\n",
      "0.6875\n"
     ]
    }
   ],
   "source": [
    "print \"Decision Tree\"\n",
    "print test_model(DecisionTreeClassifier(random_state=42), average_data)\n",
    "print \"Gradient Boosting\"\n",
    "print test_model(GradientBoostingClassifier(random_state=42), average_data)\n",
    "print \"AdaBoost\"\n",
    "print test_model(AdaBoostClassifier(random_state=42), average_data)\n",
    "print \"Nearest Neighbor\"\n",
    "print test_model(KNeighborsClassifier(n_neighbors=1), average_data)\n",
    "print \"3 Nearest Neighbors\"\n",
    "print test_model(KNeighborsClassifier(n_neighbors=3), average_data)"
   ]
  },
  {
   "cell_type": "markdown",
   "metadata": {},
   "source": [
    "The ensemble methods seem to be doing the best, with the AdaBoost algorithm getting an accuracy of over 75%."
   ]
  },
  {
   "cell_type": "markdown",
   "metadata": {},
   "source": [
    "We can try expanding our features to include other measurements, such as the standard deviations of the levels for each group of brainwaves.  This could help if changes in the brain waves are indictative of confusion, in addition to average values."
   ]
  },
  {
   "cell_type": "code",
   "execution_count": 177,
   "metadata": {
    "collapsed": false
   },
   "outputs": [],
   "source": [
    "std_deviations = sessions.aggregate(np.std)[cols]\n",
    "std_deviations.columns = [col + \" std\" for col in cols]\n",
    "all_features = concat([averages, std_deviations], axis=1)\n",
    "all_data = (all_features, target)"
   ]
  },
  {
   "cell_type": "code",
   "execution_count": 178,
   "metadata": {
    "collapsed": false
   },
   "outputs": [
    {
     "name": "stdout",
     "output_type": "stream",
     "text": [
      "Logistic Regression\n",
      "0.59375\n",
      "Decision Tree\n",
      "0.777083333333\n",
      "Gradient Boosting\n",
      "0.725\n",
      "AdaBoost\n",
      "0.7125\n",
      "Nearest Neighbor\n",
      "0.65\n",
      "3 Nearest Neighbors\n",
      "0.704166666667\n"
     ]
    }
   ],
   "source": [
    "print \"Logistic Regression\"\n",
    "print test_model(LogisticRegression(random_state=42) , all_data)\n",
    "print \"Decision Tree\"\n",
    "print test_model(DecisionTreeClassifier(random_state=42), all_data)\n",
    "print \"Gradient Boosting\"\n",
    "print test_model(GradientBoostingClassifier(random_state=42), all_data)\n",
    "print \"AdaBoost\"\n",
    "print test_model(AdaBoostClassifier(random_state=42), all_data)\n",
    "print \"Nearest Neighbor\"\n",
    "print test_model(KNeighborsClassifier(n_neighbors=1), all_data)\n",
    "print \"3 Nearest Neighbors\"\n",
    "print test_model(KNeighborsClassifier(n_neighbors=3), all_data)"
   ]
  },
  {
   "cell_type": "markdown",
   "metadata": {},
   "source": [
    "With the additional features, some models (such as decision trees and 3 nearest neighbors) improved, but both the ensemble algorithms did slightly more poorly.  However, the best performing algorithms remain those using decision trees, with the plain decision tree classifier now performing the best.  Luckily this is a classifier that is relatlively easy to interpret, so we can train one on all the data and see what it is keying off of."
   ]
  },
  {
   "cell_type": "code",
   "execution_count": 208,
   "metadata": {
    "collapsed": false
   },
   "outputs": [
    {
     "data": {
      "text/html": [
       "<div>\n",
       "<table border=\"1\" class=\"dataframe\">\n",
       "  <thead>\n",
       "    <tr style=\"text-align: right;\">\n",
       "      <th></th>\n",
       "      <th>0</th>\n",
       "    </tr>\n",
       "  </thead>\n",
       "  <tbody>\n",
       "    <tr>\n",
       "      <th>Average Theta</th>\n",
       "      <td>0.270108</td>\n",
       "    </tr>\n",
       "    <tr>\n",
       "      <th>Gamma2 std</th>\n",
       "      <td>0.167580</td>\n",
       "    </tr>\n",
       "    <tr>\n",
       "      <th>Average Beta 2</th>\n",
       "      <td>0.137392</td>\n",
       "    </tr>\n",
       "    <tr>\n",
       "      <th>Average Alpha 1</th>\n",
       "      <td>0.095932</td>\n",
       "    </tr>\n",
       "    <tr>\n",
       "      <th>Alpha 2 std</th>\n",
       "      <td>0.090207</td>\n",
       "    </tr>\n",
       "    <tr>\n",
       "      <th>Average Gamma2</th>\n",
       "      <td>0.065985</td>\n",
       "    </tr>\n",
       "    <tr>\n",
       "      <th>Average Delta</th>\n",
       "      <td>0.046079</td>\n",
       "    </tr>\n",
       "    <tr>\n",
       "      <th>Average Alpha 2</th>\n",
       "      <td>0.043351</td>\n",
       "    </tr>\n",
       "    <tr>\n",
       "      <th>Gamma1 std</th>\n",
       "      <td>0.036681</td>\n",
       "    </tr>\n",
       "    <tr>\n",
       "      <th>Alpha 1 std</th>\n",
       "      <td>0.026677</td>\n",
       "    </tr>\n",
       "    <tr>\n",
       "      <th>Delta std</th>\n",
       "      <td>0.020008</td>\n",
       "    </tr>\n",
       "    <tr>\n",
       "      <th>Average Beta 1</th>\n",
       "      <td>0.000000</td>\n",
       "    </tr>\n",
       "    <tr>\n",
       "      <th>Average Gamma1</th>\n",
       "      <td>0.000000</td>\n",
       "    </tr>\n",
       "    <tr>\n",
       "      <th>Theta std</th>\n",
       "      <td>0.000000</td>\n",
       "    </tr>\n",
       "    <tr>\n",
       "      <th>Beta 1 std</th>\n",
       "      <td>0.000000</td>\n",
       "    </tr>\n",
       "    <tr>\n",
       "      <th>Beta 2 std</th>\n",
       "      <td>0.000000</td>\n",
       "    </tr>\n",
       "  </tbody>\n",
       "</table>\n",
       "</div>"
      ],
      "text/plain": [
       "                        0\n",
       "Average Theta    0.270108\n",
       "Gamma2 std       0.167580\n",
       "Average Beta 2   0.137392\n",
       "Average Alpha 1  0.095932\n",
       "Alpha 2 std      0.090207\n",
       "Average Gamma2   0.065985\n",
       "Average Delta    0.046079\n",
       "Average Alpha 2  0.043351\n",
       "Gamma1 std       0.036681\n",
       "Alpha 1 std      0.026677\n",
       "Delta std        0.020008\n",
       "Average Beta 1   0.000000\n",
       "Average Gamma1   0.000000\n",
       "Theta std        0.000000\n",
       "Beta 1 std       0.000000\n",
       "Beta 2 std       0.000000"
      ]
     },
     "execution_count": 208,
     "metadata": {},
     "output_type": "execute_result"
    }
   ],
   "source": [
    "classifier = DecisionTreeClassifier(random_state=42)\n",
    "classifier.fit(all_features, target)\n",
    "DataFrame(classifier.feature_importances_, index=all_features.columns).sort_values(0, ascending=False)"
   ]
  },
  {
   "cell_type": "markdown",
   "metadata": {},
   "source": [
    "Interestingly, the most important feature is the average theta value.  This is significant as the researchers mention past research suggests theta values correlate with confusion levels.  The deviation of gamma 2 brainwaves and the average beta 2 brainwaves are also relatively significant."
   ]
  },
  {
   "cell_type": "code",
   "execution_count": null,
   "metadata": {
    "collapsed": true
   },
   "outputs": [],
   "source": []
  }
 ],
 "metadata": {
  "kernelspec": {
   "display_name": "Python 2",
   "language": "python",
   "name": "python2"
  },
  "language_info": {
   "codemirror_mode": {
    "name": "ipython",
    "version": 2
   },
   "file_extension": ".py",
   "mimetype": "text/x-python",
   "name": "python",
   "nbconvert_exporter": "python",
   "pygments_lexer": "ipython2",
   "version": "2.7.11+"
  }
 },
 "nbformat": 4,
 "nbformat_minor": 1
}
